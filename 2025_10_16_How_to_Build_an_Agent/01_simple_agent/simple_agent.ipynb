{
 "cells": [
  {
   "cell_type": "code",
   "execution_count": 15,
   "id": "b3572ef8",
   "metadata": {},
   "outputs": [
    {
     "data": {
      "text/plain": [
       "True"
      ]
     },
     "execution_count": 15,
     "metadata": {},
     "output_type": "execute_result"
    }
   ],
   "source": [
    "from dotenv import load_dotenv\n",
    "\n",
    "load_dotenv()"
   ]
  },
  {
   "cell_type": "code",
   "execution_count": 16,
   "id": "bd8e8c54",
   "metadata": {},
   "outputs": [],
   "source": [
    "import json\n",
    "import os\n",
    "\n",
    "from openai import OpenAI"
   ]
  },
  {
   "cell_type": "code",
   "execution_count": 17,
   "id": "6464d7ac",
   "metadata": {},
   "outputs": [],
   "source": [
    "OPENAI_API_KEY = os.getenv(\"OPENAI_API_KEY\")\n",
    "assert OPENAI_API_KEY is not None, \"OPENAI_API_KEY environment variable is not set\""
   ]
  },
  {
   "cell_type": "code",
   "execution_count": 18,
   "id": "354cf2c8",
   "metadata": {},
   "outputs": [],
   "source": [
    "client = OpenAI(\n",
    "    api_key=OPENAI_API_KEY,\n",
    ")"
   ]
  },
  {
   "cell_type": "code",
   "execution_count": 19,
   "id": "6ccc53c1",
   "metadata": {},
   "outputs": [],
   "source": [
    "def get_llm_response_openai(model, messages, output_format=\"text\"):\n",
    "    response = client.responses.create(model=model, input=messages)\n",
    "    if output_format == \"json\":\n",
    "        try:\n",
    "            return json.loads(response.output_text)\n",
    "        except json.JSONDecodeError as e:\n",
    "            print(\"Error parsing JSON response:\", e)\n",
    "            return None\n",
    "    return response.output_text"
   ]
  },
  {
   "cell_type": "code",
   "execution_count": 20,
   "id": "670b0e40",
   "metadata": {},
   "outputs": [],
   "source": [
    "def write_poem(model: str, topic: str, word_count: str | int):\n",
    "    messages = [\n",
    "        {\n",
    "            \"role\": \"developer\",\n",
    "            \"content\": \"You are a helpful assistant that writes poems with user-specified word counts. Structure the output as a JSON object with keys 'title' and 'body'. Ensure the poem has exactly the specified number of words.\",\n",
    "        },\n",
    "        {\n",
    "            \"role\": \"user\",\n",
    "            \"content\": f\"Write a poem in {word_count} words about {topic}.\",\n",
    "        },\n",
    "    ]\n",
    "    return get_llm_response_openai(model, messages, output_format=\"json\")"
   ]
  },
  {
   "cell_type": "code",
   "execution_count": 21,
   "id": "59e771c4",
   "metadata": {},
   "outputs": [],
   "source": [
    "def get_word_count(poem):\n",
    "    return len(poem.strip().split())"
   ]
  },
  {
   "cell_type": "code",
   "execution_count": 22,
   "id": "9c837ab4",
   "metadata": {},
   "outputs": [],
   "source": [
    "def reflect_on_poem(model, poem, topic, word_count):\n",
    "    poem_body = poem.get(\"body\", \"\") if isinstance(poem, dict) else \"\"\n",
    "    word_count = get_word_count(poem_body)\n",
    "    messages = [\n",
    "        {\n",
    "            \"role\": \"developer\",\n",
    "            \"content\": \"You are a thoughtful assistant that reflects on poems. Provide insights about the poem's themes, and style. Structure your response as a JSON object with keys 'feedback_on_topic', 'feedback_on_word_count', and 'improvement_ideas'. Specify feedback on topic adherence in 'feedback_on_topic' and word count accuracy in 'feedback_on_word_count'.\",\n",
    "        },\n",
    "        {\n",
    "            \"role\": \"user\",\n",
    "            \"content\": f\"The following poem has {word_count} words.\\n\\n{poem}\\n\\n User asked for a poem about {topic}. Reflect on how well the poem captures the essence of {topic}. User asked for {word_count} words, does the poem meet this requirement?\",\n",
    "        },\n",
    "    ]\n",
    "    return get_llm_response_openai(model, messages, output_format=\"json\")"
   ]
  },
  {
   "cell_type": "code",
   "execution_count": 23,
   "id": "d676cded",
   "metadata": {},
   "outputs": [],
   "source": [
    "def improve_poem(model, poem, feedback, topic, word_count):\n",
    "    messages = [\n",
    "        {\n",
    "            \"role\": \"developer\",\n",
    "            \"content\": \"You are a skilled poet and editor. Use the provided feedback to enhance the poem while maintaining its original style and themes. Structure the output as a JSON object with keys 'title' and 'body'.\",\n",
    "        },\n",
    "        {\n",
    "            \"role\": \"user\",\n",
    "            \"content\": f\"User requested for a poem about {topic} in {word_count} words.\\n\\nHere is the original poem:\\n\\n{poem}\\n\\nHere is the feedback:\\n\\n{feedback}\\n\\nPlease revise the poem accordingly.\",\n",
    "        },\n",
    "    ]\n",
    "    return get_llm_response_openai(model, messages, output_format=\"json\")"
   ]
  },
  {
   "cell_type": "code",
   "execution_count": 24,
   "id": "99a7d626",
   "metadata": {},
   "outputs": [],
   "source": [
    "def my_poet_agent(\n",
    "    poet_model: str,\n",
    "    critic_model: str,\n",
    "    topic: str,\n",
    "    word_count: str | int,\n",
    "):\n",
    "    first_draft = write_poem(\n",
    "        model=poet_model,\n",
    "        topic=topic,\n",
    "        word_count=word_count,\n",
    "    )\n",
    "    poem_feedback = reflect_on_poem(\n",
    "        model=critic_model,\n",
    "        poem=first_draft,\n",
    "        topic=topic,\n",
    "        word_count=word_count,\n",
    "    )\n",
    "    final_poem = improve_poem(\n",
    "        model=poet_model,\n",
    "        poem=first_draft,\n",
    "        feedback=poem_feedback,\n",
    "        topic=topic,\n",
    "        word_count=word_count,\n",
    "    )\n",
    "    return first_draft, poem_feedback, final_poem"
   ]
  },
  {
   "cell_type": "code",
   "execution_count": 25,
   "id": "313e6567",
   "metadata": {},
   "outputs": [],
   "source": [
    "topic = \"sunday mornings\"\n",
    "word_count = \"sqrt(444)\"\n",
    "poet_model = \"gpt-5-nano-2025-08-07\"\n",
    "critic_model = \"gpt-5-2025-08-07\""
   ]
  },
  {
   "cell_type": "code",
   "execution_count": 26,
   "id": "83a387c9",
   "metadata": {},
   "outputs": [],
   "source": [
    "first_draft, poem_feedback, final_poem = my_poet_agent(\n",
    "    poet_model=poet_model,\n",
    "    critic_model=critic_model,\n",
    "    topic=topic,\n",
    "    word_count=word_count,\n",
    ")"
   ]
  },
  {
   "cell_type": "code",
   "execution_count": 27,
   "id": "ad4fd39f",
   "metadata": {},
   "outputs": [
    {
     "name": "stdout",
     "output_type": "stream",
     "text": [
      "Sunday Morning Hush\n",
      "\n",
      "Sunday morning hush settles like warm light, slippers sigh, kettle hums, windows glow, time softens, promises drift open into quiet hours.\n"
     ]
    }
   ],
   "source": [
    "print(first_draft.get(\"title\", \"\"), end=\"\\n\\n\")\n",
    "print(first_draft.get(\"body\", \"\"))"
   ]
  },
  {
   "cell_type": "code",
   "execution_count": 28,
   "id": "404822e8",
   "metadata": {},
   "outputs": [
    {
     "name": "stdout",
     "output_type": "stream",
     "text": [
      "Strongly aligned with Sunday mornings. The poem evokes a calm, domestic ritual through sensory details: the sibilant hush, slippers, kettle, and glowing windows. Personification (“slippers sigh,” “time softens,” “promises drift open”) deepens the mood of ease and renewal. The tone is gentle and unhurried, capturing the hushed, liminal feel of a Sunday start.\n",
      "\n",
      "The body contains 21 words, meeting the requirement. Note: if the title were included in the count, the total would be 24 words.\n",
      "\n",
      "['Introduce a distinctly Sunday marker (e.g., church bells, no alarm, the Sunday paper, pancakes) to sharpen the setting.', 'Add a scent image (fresh coffee, toast, rain on pavement) to round out the sensory field.', 'Consider a small external detail (distant bells, a quiet street) to widen the scene beyond the room.', 'Play with line breaks or a subtle pause (an em dash or period) to mimic the spacious Sunday tempo.', 'Offer a gentle turn at the end (a held breath before the day, a shared glance) to leave a resonant aftertaste.', 'Tighten one abstraction (“promises”) to something more concrete if you want a more tactile close, while keeping the 21-word limit.', 'Weave a touch of light-play (curtains, dust motes in sun) to make the visual imagery more vivid.']\n"
     ]
    }
   ],
   "source": [
    "print(poem_feedback.get(\"feedback_on_topic\", \"\"), end=\"\\n\\n\")\n",
    "print(poem_feedback.get(\"feedback_on_word_count\", \"\"), end=\"\\n\\n\")\n",
    "print(poem_feedback.get(\"improvement_ideas\", \"\"))"
   ]
  },
  {
   "cell_type": "code",
   "execution_count": 29,
   "id": "20e8c971",
   "metadata": {},
   "outputs": [
    {
     "name": "stdout",
     "output_type": "stream",
     "text": [
      "Sunday Morning Hush\n",
      "\n",
      "Sunday morning hush settles; slippers sigh, kettle hums, coffee steams, motes glitter; distant bells toll; paper rustles, pancakes warm; shared smile.\n"
     ]
    }
   ],
   "source": [
    "print(final_poem.get(\"title\", \"\"), end=\"\\n\\n\")\n",
    "print(final_poem.get(\"body\", \"\"))"
   ]
  },
  {
   "cell_type": "code",
   "execution_count": 30,
   "id": "4d738df1",
   "metadata": {},
   "outputs": [
    {
     "data": {
      "text/plain": [
       "21"
      ]
     },
     "execution_count": 30,
     "metadata": {},
     "output_type": "execute_result"
    }
   ],
   "source": [
    "final_word_count = get_word_count(final_poem.get(\"body\", \"\"))\n",
    "final_word_count"
   ]
  },
  {
   "cell_type": "code",
   "execution_count": null,
   "id": "def8e427",
   "metadata": {},
   "outputs": [],
   "source": []
  },
  {
   "cell_type": "code",
   "execution_count": null,
   "id": "d5f141ed",
   "metadata": {},
   "outputs": [],
   "source": []
  },
  {
   "cell_type": "code",
   "execution_count": null,
   "id": "12646aca",
   "metadata": {},
   "outputs": [],
   "source": []
  },
  {
   "cell_type": "code",
   "execution_count": null,
   "id": "e5aa980e",
   "metadata": {},
   "outputs": [],
   "source": []
  },
  {
   "cell_type": "code",
   "execution_count": null,
   "id": "2f9b6f6d",
   "metadata": {},
   "outputs": [],
   "source": []
  },
  {
   "cell_type": "code",
   "execution_count": null,
   "id": "7bb14f44",
   "metadata": {},
   "outputs": [],
   "source": []
  },
  {
   "cell_type": "code",
   "execution_count": null,
   "id": "c6241638",
   "metadata": {},
   "outputs": [],
   "source": [
    "first_draft = write_poem(\n",
    "    model=poet_model,\n",
    "    topic=topic,\n",
    "    word_count=word_count,\n",
    ")\n",
    "print(first_draft.get(\"title\", \"\"), end=\"\\n\\n\")\n",
    "print(first_draft.get(\"body\", \"\"))"
   ]
  },
  {
   "cell_type": "code",
   "execution_count": null,
   "id": "3d59b6bf",
   "metadata": {},
   "outputs": [],
   "source": [
    "poem_feedback = reflect_on_poem(\n",
    "    model=critic_model,\n",
    "    poem=first_draft,\n",
    "    topic=topic,\n",
    "    word_count=word_count,\n",
    ")\n",
    "print(poem_feedback.get(\"feedback_on_topic\", \"\"), end=\"\\n\\n\")\n",
    "print(poem_feedback.get(\"feedback_on_word_count\", \"\"), end=\"\\n\\n\")\n",
    "print(poem_feedback.get(\"improvement_ideas\", \"\"))"
   ]
  },
  {
   "cell_type": "code",
   "execution_count": null,
   "id": "369397d7",
   "metadata": {},
   "outputs": [],
   "source": [
    "final_poem = improve_poem(\n",
    "    model=poet_model,\n",
    "    poem=first_draft,\n",
    "    feedback=poem_feedback,\n",
    "    topic=topic,\n",
    "    word_count=word_count,\n",
    ")\n",
    "print(final_poem.get(\"title\", \"\"), end=\"\\n\\n\")\n",
    "print(final_poem.get(\"body\", \"\"))"
   ]
  },
  {
   "cell_type": "code",
   "execution_count": null,
   "id": "3aa013ab",
   "metadata": {},
   "outputs": [],
   "source": [
    "final_word_count = get_word_count(final_poem.get(\"body\", \"\"))\n",
    "final_word_count"
   ]
  },
  {
   "cell_type": "code",
   "execution_count": null,
   "id": "d4758bbf",
   "metadata": {},
   "outputs": [],
   "source": []
  }
 ],
 "metadata": {
  "kernelspec": {
   "display_name": "agentic-ai",
   "language": "python",
   "name": "python3"
  },
  "language_info": {
   "codemirror_mode": {
    "name": "ipython",
    "version": 3
   },
   "file_extension": ".py",
   "mimetype": "text/x-python",
   "name": "python",
   "nbconvert_exporter": "python",
   "pygments_lexer": "ipython3",
   "version": "3.12.11"
  }
 },
 "nbformat": 4,
 "nbformat_minor": 5
}
